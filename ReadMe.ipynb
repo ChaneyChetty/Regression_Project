{
 "cells": [
  {
   "cell_type": "code",
   "execution_count": 1,
   "id": "370e1983-83e2-4deb-852b-95174aadc50e",
   "metadata": {},
   "outputs": [
    {
     "ename": "SyntaxError",
     "evalue": "unterminated string literal (detected at line 12) (2288427754.py, line 12)",
     "output_type": "error",
     "traceback": [
      "\u001b[1;36m  Cell \u001b[1;32mIn[1], line 12\u001b[1;36m\u001b[0m\n\u001b[1;33m    - If you haven't installed Anaconda yet, you can download it from the official website. Choose the version that is appropriate for your operating system.\u001b[0m\n\u001b[1;37m                  ^\u001b[0m\n\u001b[1;31mSyntaxError\u001b[0m\u001b[1;31m:\u001b[0m unterminated string literal (detected at line 12)\n"
     ]
    }
   ],
   "source": [
    "<div style=\"font-size: 100px\">\n",
    "    <font color='#2A7F62'> <b>CO2 Emmissions from Agriculture</b></font>\n",
    "\n",
    "#### <font color='#2A7F62'> Description\n",
    "This project aims to perform regression analysis on a dataset containing CO2 emissions data from various agricultural activities, demographic information, and average temperature increases for different regions spanning 30 years, from 1990 to 2020. Our analysis focused on comparison of three models and recommendations of the best model.\n",
    "\n",
    "#### <font color='#2A7F62'> Installation\n",
    "- Clone the repository: git clone `https://github.com/ChaneyChetty/Regression_Project.git`\n",
    "- Navigate to the project directory: cd `RegressionProject`\n",
    "\n",
    "- **Setting up the environment with Anaconda**\n",
    "    - If you haven't installed Anaconda yet, you can download it from the official website. Choose the version that is appropriate for your operating system.\n",
    "    - Open Anaconda Prompt: You can do this by searching for \"Anaconda Prompt\" in your start menu.\n",
    "    - Create a new environment: Use the following command to create a new environment. Replace `myenv` with the name you want to give to your environment.\n",
    "        ```\n",
    "        conda create --name myenv\n",
    "        ```\n",
    "    - Activate the environment: Before you start using the environment, you need to activate it. Use the following command:\n",
    "        ```\n",
    "        conda activate myenv\n",
    "        ```\n",
    "\n",
    "- Install the required packages: pip install -r `requirements.txt`\n",
    "\n",
    "#### <font color='#2A7F62'> Usage\n",
    "Run the main script to start the analysis: `RegressionProject.ipynb`\n",
    "\n",
    "#### <font color='#2A7F62'> Contributing\n",
    "- Fork the project.\n",
    "- Create your feature branch: git checkout -b feature/your-new-feature\n",
    "- Commit your changes: git commit -am 'Add some feature'\n",
    "- Push to the branch: git push origin feature/your-new-feature\n",
    "- Submit a pull request.\n",
    "\n",
    "#### <font color='#2A7F62'> Contact\n",
    "If you have any questions, suggestions, or would like to contribute to this project, please feel free to reach out.\n",
    "\n",
    "Chaney Chetty\n",
    "\n",
    "Email: c.chetty@decisioninc.com\n",
    "GitHub: @ChaneyChetty"
   ]
  }
 ],
 "metadata": {
  "kernelspec": {
   "display_name": "Python 3 (ipykernel)",
   "language": "python",
   "name": "python3"
  },
  "language_info": {
   "codemirror_mode": {
    "name": "ipython",
    "version": 3
   },
   "file_extension": ".py",
   "mimetype": "text/x-python",
   "name": "python",
   "nbconvert_exporter": "python",
   "pygments_lexer": "ipython3",
   "version": "3.12.2"
  }
 },
 "nbformat": 4,
 "nbformat_minor": 5
}
